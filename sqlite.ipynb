{
  "nbformat": 4,
  "nbformat_minor": 0,
  "metadata": {
    "colab": {
      "name": "sqlite.ipynb",
      "provenance": [],
      "authorship_tag": "ABX9TyOnQtJ5m/k6peRUElIIJELE",
      "include_colab_link": true
    },
    "kernelspec": {
      "name": "python3",
      "display_name": "Python 3"
    },
    "language_info": {
      "name": "python"
    }
  },
  "cells": [
    {
      "cell_type": "markdown",
      "metadata": {
        "id": "view-in-github",
        "colab_type": "text"
      },
      "source": [
        "<a href=\"https://colab.research.google.com/github/hasancagrigungor/ders-notlari/blob/main/sqlite.ipynb\" target=\"_parent\"><img src=\"https://colab.research.google.com/assets/colab-badge.svg\" alt=\"Open In Colab\"/></a>"
      ]
    },
    {
      "cell_type": "code",
      "metadata": {
        "id": "wnF-slwAZLCH"
      },
      "source": [
        " import sqlite3"
      ],
      "execution_count": null,
      "outputs": []
    },
    {
      "cell_type": "code",
      "metadata": {
        "id": "kHCZSKmEaoMk"
      },
      "source": [
        "## Memory üzerine saklama için\n",
        "test=sqlite3.connect(\":memory:\") "
      ],
      "execution_count": null,
      "outputs": []
    },
    {
      "cell_type": "code",
      "metadata": {
        "id": "ZrOicTaPZ8Gu"
      },
      "source": [
        "#Veri tabanımızı Oluşturuyoruz\n",
        "conn=sqlite3.connect(\"customer.db\")"
      ],
      "execution_count": null,
      "outputs": []
    },
    {
      "cell_type": "markdown",
      "metadata": {
        "id": "BLBaKT11acmW"
      },
      "source": [
        "sqlite connect metodunun en güzel yanlarından biri eğer bir database yoksa oluşturuyor eğer bu isimde bir database varsa ise herhangi bir işlem yapmıyor"
      ]
    },
    {
      "cell_type": "code",
      "metadata": {
        "id": "uhQVrV2QaXfY"
      },
      "source": [
        "#Cursor oluşturma\n",
        "c=conn.cursor()"
      ],
      "execution_count": null,
      "outputs": []
    },
    {
      "cell_type": "code",
      "source": [
        " "
      ],
      "metadata": {
        "id": "RM6spT5gRE8y"
      },
      "execution_count": null,
      "outputs": []
    },
    {
      "cell_type": "code",
      "source": [],
      "metadata": {
        "id": "J_1of0XYQCsZ"
      },
      "execution_count": null,
      "outputs": []
    },
    {
      "cell_type": "code",
      "source": [],
      "metadata": {
        "id": "ZsgseEZSPE0C"
      },
      "execution_count": null,
      "outputs": []
    },
    {
      "cell_type": "code",
      "metadata": {
        "colab": {
          "base_uri": "https://localhost:8080/"
        },
        "id": "zVsUlpzOa3gd",
        "outputId": "71bd0ec2-7165-4429-a908-ebc8c591538a"
      },
      "source": [
        "#Tablo oluşturma\n",
        "c.execute(\"\"\" CREATE TABLE IF NOT EXISTS ogrenciler(\n",
        "    isim text,\n",
        "    soyisim text,\n",
        "    email text\n",
        ")\n",
        "\"\"\")"
      ],
      "execution_count": null,
      "outputs": [
        {
          "output_type": "execute_result",
          "data": {
            "text/plain": [
              "<sqlite3.Cursor at 0x7f4b55fd1d50>"
            ]
          },
          "metadata": {
            "tags": []
          },
          "execution_count": 84
        }
      ]
    },
    {
      "cell_type": "markdown",
      "metadata": {
        "id": "PNo5rPQsb-db"
      },
      "source": [
        "\n",
        "\n",
        "*   NULL - Boş\n",
        "\n",
        "*   INTEGER - Tam Sayı\n",
        "\n",
        "*   REAL - Gerçek Sayılar\n",
        "*   TEXT - String Metin\n",
        "\n",
        "\n",
        "*   BLOB - Media dosyaları\n",
        "\n",
        "\n",
        "\n",
        "\n"
      ]
    },
    {
      "cell_type": "code",
      "metadata": {
        "id": "9hW_WrwOa85H"
      },
      "source": [
        "#İşlemek\n",
        "conn.commit()\n",
        "#Kapatmak\n"
      ],
      "execution_count": null,
      "outputs": []
    },
    {
      "cell_type": "code",
      "metadata": {
        "colab": {
          "base_uri": "https://localhost:8080/"
        },
        "id": "tPS-WbgDcjDJ",
        "outputId": "1900ef1f-4f7f-4b1e-9fb7-65e7c6702cb3"
      },
      "source": [
        "c.execute(\"\"\" INSERT INTO ogrenciler VALUES(\n",
        "    'Mehmet',\n",
        "    'Hakan',\n",
        "    'iletisim@cagrigungor.com'\n",
        ")\n",
        "\"\"\")\n",
        "#Mesaj\n",
        "print(\"Başarılı Bir Şekilde Eklendi\")\n",
        "\n",
        "#İşlemek\n",
        "conn.commit()\n",
        "#Kapatmak\n",
        "#conn.close()"
      ],
      "execution_count": null,
      "outputs": [
        {
          "output_type": "stream",
          "text": [
            "Başarılı Bir Şekilde Eklendi\n"
          ],
          "name": "stdout"
        }
      ]
    },
    {
      "cell_type": "code",
      "source": [],
      "metadata": {
        "id": "832F8dWe2rEy"
      },
      "execution_count": null,
      "outputs": []
    },
    {
      "cell_type": "markdown",
      "metadata": {
        "id": "uycl2NfGfWAF"
      },
      "source": [
        "# Çoklu Veri Ekleme"
      ]
    },
    {
      "cell_type": "code",
      "metadata": {
        "id": "G-WCEL6LdXYG"
      },
      "source": [
        "ogrenci_liste=[\n",
        "               (\"Hasan\",\"Güngör\",\"iletisim@cagrigungor.com\"),\n",
        "               (\"Buğra\",\"Özdur\",\"iletisim@cagrigungor.com\"),\n",
        "               (\"Çağrı\",\"Güngör\",\"iletisim@cagrigungor.com\"),\n",
        "]\n",
        "c.executemany(\"INSERT INTO ogrenciler VALUES(?,?,?)\",ogrenci_liste)\n",
        "conn.commit()"
      ],
      "execution_count": null,
      "outputs": []
    },
    {
      "cell_type": "code",
      "metadata": {
        "id": "o5Sg9_qrfsYN"
      },
      "source": [],
      "execution_count": null,
      "outputs": []
    },
    {
      "cell_type": "markdown",
      "source": [],
      "metadata": {
        "id": "HnEPXIgrelO4"
      }
    },
    {
      "cell_type": "code",
      "source": [],
      "metadata": {
        "id": "spXacaE_elo8"
      },
      "execution_count": null,
      "outputs": []
    },
    {
      "cell_type": "markdown",
      "metadata": {
        "id": "-0A4X0Awgdcv"
      },
      "source": [
        "# Query ve Fetch"
      ]
    },
    {
      "cell_type": "code",
      "metadata": {
        "colab": {
          "base_uri": "https://localhost:8080/"
        },
        "id": "00fIo1e7ge4h",
        "outputId": "06958687-7e8f-4fdf-f09c-1c321f24c4dc"
      },
      "source": [
        "c.execute(\"SELECT * FROM ogrenciler\")\n",
        "# Fetch Tipleri\n",
        "#  c.fetchone()\n",
        "#  c.fetchmany(3)\n",
        "#  c.fetchall())\n",
        "print(c.fetchall())"
      ],
      "execution_count": null,
      "outputs": [
        {
          "output_type": "stream",
          "text": [
            "[('Mehmet', 'Hakan', 'iletisim@cagrigungor.com'), ('Hasan', 'Güngör', 'iletisim@cagrigungor.com'), ('Buğra', 'Özdur', 'iletisim@cagrigungor.com'), ('Çağrı', 'Güngör', 'iletisim@cagrigungor.com')]\n"
          ],
          "name": "stdout"
        }
      ]
    },
    {
      "cell_type": "code",
      "metadata": {
        "colab": {
          "base_uri": "https://localhost:8080/"
        },
        "id": "p2iRFyXMgzQR",
        "outputId": "d1a2f48e-3375-4ec7-e2b6-44701867411e"
      },
      "source": [
        "c.execute(\"SELECT * FROM ogrenciler\")\n",
        "print(c.fetchone())"
      ],
      "execution_count": null,
      "outputs": [
        {
          "output_type": "stream",
          "text": [
            "('Mehmet', 'Hakan', 'iletisim@cagrigungor.com')\n"
          ],
          "name": "stdout"
        }
      ]
    },
    {
      "cell_type": "code",
      "metadata": {
        "colab": {
          "base_uri": "https://localhost:8080/"
        },
        "id": "fwXn5lifhDpM",
        "outputId": "f3fcef06-707e-4398-ae3e-983f44f53e27"
      },
      "source": [
        "c.execute(\"SELECT * FROM ogrenciler\")\n",
        "print(c.fetchmany(2))"
      ],
      "execution_count": null,
      "outputs": [
        {
          "output_type": "stream",
          "text": [
            "[('Mehmet', 'Hakan', 'iletisim@cagrigungor.com'), ('Hasan', 'Güngör', 'iletisim@cagrigungor.com')]\n"
          ],
          "name": "stdout"
        }
      ]
    },
    {
      "cell_type": "code",
      "metadata": {
        "colab": {
          "base_uri": "https://localhost:8080/"
        },
        "id": "1JTM0q0XhNla",
        "outputId": "25989c34-7766-44ec-b8b8-45d5187f84aa"
      },
      "source": [
        "c.execute(\"SELECT isim FROM ogrenciler\")\n",
        "print(c.fetchmany(2))"
      ],
      "execution_count": null,
      "outputs": [
        {
          "output_type": "stream",
          "text": [
            "[('Mehmet',), ('Hasan',)]\n"
          ],
          "name": "stdout"
        }
      ]
    },
    {
      "cell_type": "code",
      "metadata": {
        "id": "kU2gbX8RhY-T"
      },
      "source": [],
      "execution_count": null,
      "outputs": []
    },
    {
      "cell_type": "markdown",
      "metadata": {
        "id": "CnbaTwEAik1F"
      },
      "source": [
        "#Primary Key"
      ]
    },
    {
      "cell_type": "code",
      "metadata": {
        "colab": {
          "base_uri": "https://localhost:8080/"
        },
        "id": "CGxhf1njinjW",
        "outputId": "d55b55eb-200d-454b-8b8b-cfcbe722316f"
      },
      "source": [
        "c.execute(\"SELECT rowid FROM ogrenciler\")\n",
        "print(c.fetchall())"
      ],
      "execution_count": null,
      "outputs": [
        {
          "output_type": "stream",
          "text": [
            "[(1,), (2,), (3,), (4,)]\n"
          ],
          "name": "stdout"
        }
      ]
    },
    {
      "cell_type": "code",
      "metadata": {
        "id": "suwhRAa6iq7n"
      },
      "source": [],
      "execution_count": null,
      "outputs": []
    },
    {
      "cell_type": "markdown",
      "metadata": {
        "id": "pK2dqlJpHO8n"
      },
      "source": [
        "# WHERE Yapısı"
      ]
    },
    {
      "cell_type": "code",
      "metadata": {
        "colab": {
          "base_uri": "https://localhost:8080/"
        },
        "id": "am4ddLgVHQyP",
        "outputId": "9b7843bb-2b6c-4020-ed7b-36beb1a2f0e5"
      },
      "source": [
        "c.execute(\"SELECT * FROM ogrenciler WHERE isim ='Çağrı'\")\n",
        "print(c.fetchall())"
      ],
      "execution_count": null,
      "outputs": [
        {
          "output_type": "stream",
          "text": [
            "[('Çağrı', 'Güngör', 'iletisim@cagrigungor.com')]\n"
          ],
          "name": "stdout"
        }
      ]
    },
    {
      "cell_type": "code",
      "metadata": {
        "colab": {
          "base_uri": "https://localhost:8080/"
        },
        "id": "z4VQoZY5HcSu",
        "outputId": "41f358e7-2a83-44b2-e0f0-61198b4444ca"
      },
      "source": [
        "c.execute(\"SELECT * FROM ogrenciler WHERE email LIKE '%cagrigungor%'\")\n",
        "print(c.fetchall())"
      ],
      "execution_count": null,
      "outputs": [
        {
          "output_type": "stream",
          "text": [
            "[('Mehmet', 'Hakan', 'iletisim@cagrigungor.com'), ('Hasan', 'Güngör', 'iletisim@cagrigungor.com'), ('Buğra', 'Özdur', 'iletisim@cagrigungor.com'), ('Çağrı', 'Güngör', 'iletisim@cagrigungor.com')]\n"
          ],
          "name": "stdout"
        }
      ]
    },
    {
      "cell_type": "code",
      "metadata": {
        "id": "6N-CS6X-I5BG"
      },
      "source": [],
      "execution_count": null,
      "outputs": []
    },
    {
      "cell_type": "markdown",
      "metadata": {
        "id": "HUipAzT3JSji"
      },
      "source": [
        "# Update"
      ]
    },
    {
      "cell_type": "code",
      "metadata": {
        "colab": {
          "base_uri": "https://localhost:8080/"
        },
        "id": "oLbjoJSHJT74",
        "outputId": "25b994a6-935b-4a69-f0f0-d7253e12de32"
      },
      "source": [
        "c.execute(\"\"\"Update ogrenciler SET isim='ÇAĞRI'\n",
        "    WHERE isim= 'Çağrı'\n",
        "\"\"\")"
      ],
      "execution_count": null,
      "outputs": [
        {
          "output_type": "execute_result",
          "data": {
            "text/plain": [
              "<sqlite3.Cursor at 0x7f4b55fd1d50>"
            ]
          },
          "metadata": {
            "tags": []
          },
          "execution_count": 95
        }
      ]
    },
    {
      "cell_type": "code",
      "metadata": {
        "colab": {
          "base_uri": "https://localhost:8080/"
        },
        "id": "KxyijTWsJnp6",
        "outputId": "7ee147a6-0171-4b28-a61f-51bc420261bb"
      },
      "source": [
        "c.execute(\"SELECT * FROM ogrenciler\")\n",
        "print(c.fetchall())"
      ],
      "execution_count": null,
      "outputs": [
        {
          "output_type": "stream",
          "text": [
            "[('Mehmet', 'Hakan', 'iletisim@cagrigungor.com'), ('Hasan', 'Güngör', 'iletisim@cagrigungor.com'), ('Buğra', 'Özdur', 'iletisim@cagrigungor.com'), ('ÇAĞRI', 'Güngör', 'iletisim@cagrigungor.com')]\n"
          ],
          "name": "stdout"
        }
      ]
    },
    {
      "cell_type": "code",
      "metadata": {
        "colab": {
          "base_uri": "https://localhost:8080/"
        },
        "id": "h729Z7dRJshk",
        "outputId": "f993a164-2eb8-4ccd-9d11-a8e433ebd68e"
      },
      "source": [
        "c.execute(\"SELECT rowid,* FROM ogrenciler\")\n",
        "print(c.fetchall())"
      ],
      "execution_count": null,
      "outputs": [
        {
          "output_type": "stream",
          "text": [
            "[(1, 'Mehmet', 'Hakan', 'iletisim@cagrigungor.com'), (2, 'Hasan', 'Güngör', 'iletisim@cagrigungor.com'), (3, 'Buğra', 'Özdur', 'iletisim@cagrigungor.com'), (4, 'ÇAĞRI', 'Güngör', 'iletisim@cagrigungor.com')]\n"
          ],
          "name": "stdout"
        }
      ]
    },
    {
      "cell_type": "code",
      "metadata": {
        "colab": {
          "base_uri": "https://localhost:8080/"
        },
        "id": "3rAfN4t2J9kb",
        "outputId": "95858756-eadd-4eb3-8495-7fee92cedbe5"
      },
      "source": [
        "c.execute(\"\"\"Update ogrenciler SET soyisim='GÜNGÖR'\n",
        "    WHERE rowid= 2\n",
        "\"\"\")"
      ],
      "execution_count": null,
      "outputs": [
        {
          "output_type": "execute_result",
          "data": {
            "text/plain": [
              "<sqlite3.Cursor at 0x7f4b55fd1d50>"
            ]
          },
          "metadata": {
            "tags": []
          },
          "execution_count": 98
        }
      ]
    },
    {
      "cell_type": "code",
      "metadata": {
        "colab": {
          "base_uri": "https://localhost:8080/"
        },
        "id": "CVv8VyeLKWj1",
        "outputId": "4209cb78-3e7f-401b-cd77-c0b0e078073c"
      },
      "source": [
        "c.execute(\"SELECT rowid,* FROM ogrenciler\")\n",
        "print(c.fetchall())"
      ],
      "execution_count": null,
      "outputs": [
        {
          "output_type": "stream",
          "text": [
            "[(1, 'Mehmet', 'Hakan', 'iletisim@cagrigungor.com'), (2, 'Hasan', 'GÜNGÖR', 'iletisim@cagrigungor.com'), (3, 'Buğra', 'Özdur', 'iletisim@cagrigungor.com'), (4, 'ÇAĞRI', 'Güngör', 'iletisim@cagrigungor.com')]\n"
          ],
          "name": "stdout"
        }
      ]
    },
    {
      "cell_type": "code",
      "metadata": {
        "id": "sijIWEW9KX6A"
      },
      "source": [],
      "execution_count": null,
      "outputs": []
    },
    {
      "cell_type": "markdown",
      "metadata": {
        "id": "HzzBHUinKbxQ"
      },
      "source": [
        "# DELETE"
      ]
    },
    {
      "cell_type": "code",
      "metadata": {
        "colab": {
          "base_uri": "https://localhost:8080/",
          "height": 169
        },
        "id": "uAljtkZhKck-",
        "outputId": "0488a360-d45c-42e3-f562-9a0027d22785"
      },
      "source": [
        "c.execute(\"DELETE FROM ogrenciler WHERE rowid=4\")"
      ],
      "execution_count": null,
      "outputs": [
        {
          "output_type": "error",
          "ename": "NameError",
          "evalue": "ignored",
          "traceback": [
            "\u001b[0;31m---------------------------------------------------------------------------\u001b[0m",
            "\u001b[0;31mNameError\u001b[0m                                 Traceback (most recent call last)",
            "\u001b[0;32m<ipython-input-1-ed02ab268061>\u001b[0m in \u001b[0;36m<module>\u001b[0;34m()\u001b[0m\n\u001b[0;32m----> 1\u001b[0;31m \u001b[0mc\u001b[0m\u001b[0;34m.\u001b[0m\u001b[0mexecute\u001b[0m\u001b[0;34m(\u001b[0m\u001b[0;34m\"DELETE FROM ogrenciler WHERE rowid=4\"\u001b[0m\u001b[0;34m)\u001b[0m\u001b[0;34m\u001b[0m\u001b[0;34m\u001b[0m\u001b[0m\n\u001b[0m",
            "\u001b[0;31mNameError\u001b[0m: name 'c' is not defined"
          ]
        }
      ]
    },
    {
      "cell_type": "code",
      "metadata": {
        "id": "hbgprBZ6KsPJ"
      },
      "source": [
        "c.execute(\"SELECT rowid,* FROM ogrenciler\")\n",
        "print(c.fetchall())"
      ],
      "execution_count": null,
      "outputs": []
    },
    {
      "cell_type": "code",
      "metadata": {
        "id": "OrozmaJNKtjB"
      },
      "source": [],
      "execution_count": null,
      "outputs": []
    },
    {
      "cell_type": "markdown",
      "metadata": {
        "id": "zI7ARgN6K1Y2"
      },
      "source": [
        "# ORDERING"
      ]
    },
    {
      "cell_type": "code",
      "metadata": {
        "colab": {
          "base_uri": "https://localhost:8080/"
        },
        "id": "qsirxVvwK4DZ",
        "outputId": "57881419-47ad-4d10-925f-6eaae8934d4c"
      },
      "source": [
        "c.execute(\"SELECT rowid,* FROM ogrenciler ORDER BY isim DESC\")\n",
        "print(c.fetchall())"
      ],
      "execution_count": null,
      "outputs": [
        {
          "output_type": "stream",
          "text": [
            "[(1, 'Mehmet', 'Hakan', 'iletisim@cagrigungor.com'), (2, 'Hasan', 'GÜNGÖR', 'iletisim@cagrigungor.com'), (3, 'Buğra', 'Özdur', 'iletisim@cagrigungor.com')]\n"
          ],
          "name": "stdout"
        }
      ]
    },
    {
      "cell_type": "code",
      "metadata": {
        "id": "q_KtTjTGLW1P"
      },
      "source": [],
      "execution_count": null,
      "outputs": []
    },
    {
      "cell_type": "markdown",
      "metadata": {
        "id": "sZ9hGKs5LlTy"
      },
      "source": [
        "# AND ve OR"
      ]
    },
    {
      "cell_type": "code",
      "metadata": {
        "colab": {
          "base_uri": "https://localhost:8080/"
        },
        "id": "FAFmw50XLnB4",
        "outputId": "abc1232c-fcd4-4942-c1c2-a3dc93035f7c"
      },
      "source": [
        "c.execute(\"SELECT rowid,* FROM ogrenciler WHERE soyisim = 'GÜNGÖR' OR isim='Mehmet'\")\n",
        "print(c.fetchall())"
      ],
      "execution_count": null,
      "outputs": [
        {
          "output_type": "stream",
          "text": [
            "[(1, 'Mehmet', 'Hakan', 'iletisim@cagrigungor.com'), (2, 'Hasan', 'GÜNGÖR', 'iletisim@cagrigungor.com')]\n"
          ],
          "name": "stdout"
        }
      ]
    },
    {
      "cell_type": "code",
      "metadata": {
        "colab": {
          "base_uri": "https://localhost:8080/"
        },
        "id": "IHY6QSnBMNnP",
        "outputId": "c0a4ca43-a12e-4cec-f1ee-8956eadb39fd"
      },
      "source": [
        "c.execute(\"SELECT rowid,* FROM ogrenciler WHERE soyisim = 'GÜNGÖR' AND isim='Mehmet'\")\n",
        "print(c.fetchall())"
      ],
      "execution_count": null,
      "outputs": [
        {
          "output_type": "stream",
          "text": [
            "[]\n"
          ],
          "name": "stdout"
        }
      ]
    },
    {
      "cell_type": "code",
      "metadata": {
        "colab": {
          "base_uri": "https://localhost:8080/"
        },
        "id": "PrlLgyGGMW78",
        "outputId": "e0d6463c-efd7-40b0-d91c-8dd103e40316"
      },
      "source": [
        "c.execute(\"SELECT rowid,* FROM ogrenciler WHERE soyisim = 'GÜNGÖR' OR isim='Mehmet' OR isim='Buğra'\")\n",
        "print(c.fetchall())"
      ],
      "execution_count": null,
      "outputs": [
        {
          "output_type": "stream",
          "text": [
            "[(1, 'Mehmet', 'Hakan', 'iletisim@cagrigungor.com'), (2, 'Hasan', 'GÜNGÖR', 'iletisim@cagrigungor.com'), (3, 'Buğra', 'Özdur', 'iletisim@cagrigungor.com')]\n"
          ],
          "name": "stdout"
        }
      ]
    },
    {
      "cell_type": "code",
      "metadata": {
        "id": "oY6Cp9OLMm_P"
      },
      "source": [],
      "execution_count": null,
      "outputs": []
    },
    {
      "cell_type": "markdown",
      "metadata": {
        "id": "JmbVKWnpMrYX"
      },
      "source": [
        "# Limit"
      ]
    },
    {
      "cell_type": "code",
      "metadata": {
        "colab": {
          "base_uri": "https://localhost:8080/"
        },
        "id": "q2iZa9iqMsL5",
        "outputId": "7bd1791d-48fc-42bd-c2e1-138545627786"
      },
      "source": [
        "c.execute(\"SELECT rowid,* FROM ogrenciler WHERE soyisim = 'GÜNGÖR' OR isim='Mehmet' OR isim='Buğra' LIMIT 2\")\n",
        "print(c.fetchall())"
      ],
      "execution_count": null,
      "outputs": [
        {
          "output_type": "stream",
          "text": [
            "[(1, 'Mehmet', 'Hakan', 'iletisim@cagrigungor.com'), (2, 'Hasan', 'GÜNGÖR', 'iletisim@cagrigungor.com')]\n"
          ],
          "name": "stdout"
        }
      ]
    },
    {
      "cell_type": "code",
      "metadata": {
        "id": "DpyJgmYbM1KJ"
      },
      "source": [],
      "execution_count": null,
      "outputs": []
    },
    {
      "cell_type": "markdown",
      "metadata": {
        "id": "rcZBKyHxNTjW"
      },
      "source": [
        "# DELETE TABLE"
      ]
    },
    {
      "cell_type": "code",
      "metadata": {
        "colab": {
          "base_uri": "https://localhost:8080/"
        },
        "id": "_Tw-692HNU66",
        "outputId": "170c30ce-7985-4a83-cfa8-1a37a77eeda1"
      },
      "source": [
        "c.execute(\"DROP TABLE ogrenciler\")\n"
      ],
      "execution_count": null,
      "outputs": [
        {
          "output_type": "execute_result",
          "data": {
            "text/plain": [
              "<sqlite3.Cursor at 0x7f4b55fd1d50>"
            ]
          },
          "metadata": {
            "tags": []
          },
          "execution_count": 107
        }
      ]
    },
    {
      "cell_type": "code",
      "metadata": {
        "id": "Qdanc3YNNk6h"
      },
      "source": [],
      "execution_count": null,
      "outputs": []
    },
    {
      "cell_type": "code",
      "metadata": {
        "id": "yxQA9NEoNm7H"
      },
      "source": [],
      "execution_count": null,
      "outputs": []
    },
    {
      "cell_type": "markdown",
      "metadata": {
        "id": "3XuTjpRrOuJD"
      },
      "source": [
        "# Veritabanı Fonksiyonları Oluşturma"
      ]
    },
    {
      "cell_type": "code",
      "metadata": {
        "colab": {
          "base_uri": "https://localhost:8080/"
        },
        "id": "ZfYO0F2MOxY1",
        "outputId": "2b6de6cd-eb12-46e0-9429-b5126b8f41c0"
      },
      "source": [
        "import sqlite3\n",
        "conn=sqlite3.connect(\"kurs.db\")\n",
        "c.execute(\"\"\" CREATE TABLE IF NOT EXISTS ogrenciler(\n",
        "    isim TEXT,\n",
        "    soyisim TEXT,\n",
        "    email TEXT,\n",
        "    telefon TEXT,\n",
        "    ders TEXT,\n",
        "    bakiye REAL\n",
        "\n",
        ")\n",
        "\"\"\")"
      ],
      "execution_count": null,
      "outputs": [
        {
          "output_type": "execute_result",
          "data": {
            "text/plain": [
              "<sqlite3.Cursor at 0x7f4b55fd1d50>"
            ]
          },
          "metadata": {
            "tags": []
          },
          "execution_count": 141
        }
      ]
    },
    {
      "cell_type": "code",
      "metadata": {
        "colab": {
          "base_uri": "https://localhost:8080/"
        },
        "id": "I1drgRQSdOrw",
        "outputId": "d85c9d36-e3e3-4ff2-88ff-93d5d11be20d"
      },
      "source": [
        "c.execute(\"\"\" INSERT INTO ogrenciler VALUES(\n",
        "    'Mehmet',\n",
        "    'Hakan',\n",
        "    'iletisim@cagrigungor.com',\n",
        "    '05054407855',\n",
        "    'Python',\n",
        "    980\n",
        ")\n",
        "\"\"\")"
      ],
      "execution_count": null,
      "outputs": [
        {
          "output_type": "execute_result",
          "data": {
            "text/plain": [
              "<sqlite3.Cursor at 0x7f4b55fd1d50>"
            ]
          },
          "metadata": {
            "tags": []
          },
          "execution_count": 142
        }
      ]
    },
    {
      "cell_type": "code",
      "metadata": {
        "colab": {
          "base_uri": "https://localhost:8080/"
        },
        "id": "a7PscgY-dxRI",
        "outputId": "1a4fae52-70cf-49df-c7a7-0961a58e1edf"
      },
      "source": [
        "c.execute(\"SELECT * FROM ogrenciler\")\n",
        "print(c.fetchall())"
      ],
      "execution_count": null,
      "outputs": [
        {
          "output_type": "stream",
          "text": [
            "[('Mehmet', 'Hakan', 'iletisim@cagrigungor.com', '05054407855', 'Python', 980.0), ('Mehmet', 'Hakan', 'iletisim@cagrigungor.com', '05054407855', 'Python', 980.0), ('Mehmet', 'Hakan', 'iletisim@cagrigungor.com', '05054407855', 'Python', 980.0)]\n"
          ],
          "name": "stdout"
        }
      ]
    },
    {
      "cell_type": "code",
      "metadata": {
        "id": "WvbZpfMvb9En"
      },
      "source": [
        "def tum_ogrenciler():\n",
        "    conn=sqlite3.connect(\"kurs.db\")\n",
        "    #c=conn.cursor()\n",
        "    c.execute(\"SELECT * FROM ogrenciler\")\n",
        "    students=c.fetchall()\n",
        "    for student in students:\n",
        "        print(student)\n",
        "    conn.commit()\n",
        "    conn.close()\n",
        "def ogrenci_ekle():\n",
        "    conn=sqlite3.connect(\"kurs.db\")\n",
        "    isim=input(\"İsim\")\n",
        "    soyisim=input(\"Soyisim\")\n",
        "    email=input(\"Email\")\n",
        "    telefon=input(\"Telefon\")\n",
        "    ders=input(\"Ders\")\n",
        "    bakiye=float(input(\"Bakiye\"))\n",
        "    liste=[isim,soyisim,email,telefon,ders,bakiye]\n",
        "    c.execute(\"INSERT INTO ogrenciler VALUES(?,?,?,?,?,?)\",liste)\n",
        "    conn.commit()\n",
        "    conn.close()\n",
        "def odeme():\n",
        "    isim=input(\"İsim\")\n",
        "    soyisim=input(\"Soyisim\")\n",
        "    miktar=float(input(\"Ödeme miktarı\"))\n",
        "    c.execute(\"SELECT bakiye FROM ogrenciler WHERE soyisim = ? OR isim= ? \",(soyisim,isim))\n",
        "    bakiye=c.fetchall()[0][0]\n",
        "\n",
        "\n",
        "    miktar=bakiye-miktar\n",
        "    conn=sqlite3.connect(\"kurs.db\")\n",
        "    c.execute(\"\"\"Update ogrenciler SET bakiye=?\n",
        "    WHERE isim=? AND soyisim=?\n",
        "    \"\"\",(miktar,isim,soyisim))\n",
        "    conn.commit()\n",
        "    conn.close()\n",
        "\n",
        "    \n"
      ],
      "execution_count": null,
      "outputs": []
    },
    {
      "cell_type": "code",
      "metadata": {
        "colab": {
          "base_uri": "https://localhost:8080/"
        },
        "id": "UVBYQ7dncZv5",
        "outputId": "7d32b89b-6312-4b1a-a97f-7865dcf6ccc4"
      },
      "source": [
        "tum_ogrenciler()"
      ],
      "execution_count": null,
      "outputs": [
        {
          "output_type": "stream",
          "text": [
            "('Mehmet', 'Hakan', 'iletisim@cagrigungor.com', '05054407855', 'Python', 980.0)\n",
            "('Mehmet', 'Hakan', 'iletisim@cagrigungor.com', '05054407855', 'Python', 980.0)\n",
            "('Mehmet', 'Hakan', 'iletisim@cagrigungor.com', '05054407855', 'Python', 980.0)\n",
            "('Çağrı', 'Güngör', 'iletisim@cagrigungor.com', '05054407855', 'php', 900.0)\n",
            "('Süleyman', 'Aslan', 'suleyman@cagri.com', '05054407855', 'html', 800.0)\n"
          ],
          "name": "stdout"
        }
      ]
    },
    {
      "cell_type": "code",
      "metadata": {
        "colab": {
          "base_uri": "https://localhost:8080/",
          "height": 566
        },
        "id": "8K-XqSu7coCZ",
        "outputId": "6a4bc527-5ee2-40c2-d728-52c8aa978957"
      },
      "source": [
        "ogrenci_ekle()"
      ],
      "execution_count": null,
      "outputs": [
        {
          "output_type": "stream",
          "text": [
            "İsim\n"
          ],
          "name": "stdout"
        },
        {
          "output_type": "error",
          "ename": "KeyboardInterrupt",
          "evalue": "ignored",
          "traceback": [
            "\u001b[0;31m---------------------------------------------------------------------------\u001b[0m",
            "\u001b[0;31mKeyboardInterrupt\u001b[0m                         Traceback (most recent call last)",
            "\u001b[0;32m/usr/local/lib/python3.7/dist-packages/ipykernel/kernelbase.py\u001b[0m in \u001b[0;36m_input_request\u001b[0;34m(self, prompt, ident, parent, password)\u001b[0m\n\u001b[1;32m    728\u001b[0m             \u001b[0;32mtry\u001b[0m\u001b[0;34m:\u001b[0m\u001b[0;34m\u001b[0m\u001b[0;34m\u001b[0m\u001b[0m\n\u001b[0;32m--> 729\u001b[0;31m                 \u001b[0mident\u001b[0m\u001b[0;34m,\u001b[0m \u001b[0mreply\u001b[0m \u001b[0;34m=\u001b[0m \u001b[0mself\u001b[0m\u001b[0;34m.\u001b[0m\u001b[0msession\u001b[0m\u001b[0;34m.\u001b[0m\u001b[0mrecv\u001b[0m\u001b[0;34m(\u001b[0m\u001b[0mself\u001b[0m\u001b[0;34m.\u001b[0m\u001b[0mstdin_socket\u001b[0m\u001b[0;34m,\u001b[0m \u001b[0;36m0\u001b[0m\u001b[0;34m)\u001b[0m\u001b[0;34m\u001b[0m\u001b[0;34m\u001b[0m\u001b[0m\n\u001b[0m\u001b[1;32m    730\u001b[0m             \u001b[0;32mexcept\u001b[0m \u001b[0mException\u001b[0m\u001b[0;34m:\u001b[0m\u001b[0;34m\u001b[0m\u001b[0;34m\u001b[0m\u001b[0m\n",
            "\u001b[0;32m/usr/local/lib/python3.7/dist-packages/jupyter_client/session.py\u001b[0m in \u001b[0;36mrecv\u001b[0;34m(self, socket, mode, content, copy)\u001b[0m\n\u001b[1;32m    802\u001b[0m         \u001b[0;32mtry\u001b[0m\u001b[0;34m:\u001b[0m\u001b[0;34m\u001b[0m\u001b[0;34m\u001b[0m\u001b[0m\n\u001b[0;32m--> 803\u001b[0;31m             \u001b[0mmsg_list\u001b[0m \u001b[0;34m=\u001b[0m \u001b[0msocket\u001b[0m\u001b[0;34m.\u001b[0m\u001b[0mrecv_multipart\u001b[0m\u001b[0;34m(\u001b[0m\u001b[0mmode\u001b[0m\u001b[0;34m,\u001b[0m \u001b[0mcopy\u001b[0m\u001b[0;34m=\u001b[0m\u001b[0mcopy\u001b[0m\u001b[0;34m)\u001b[0m\u001b[0;34m\u001b[0m\u001b[0;34m\u001b[0m\u001b[0m\n\u001b[0m\u001b[1;32m    804\u001b[0m         \u001b[0;32mexcept\u001b[0m \u001b[0mzmq\u001b[0m\u001b[0;34m.\u001b[0m\u001b[0mZMQError\u001b[0m \u001b[0;32mas\u001b[0m \u001b[0me\u001b[0m\u001b[0;34m:\u001b[0m\u001b[0;34m\u001b[0m\u001b[0;34m\u001b[0m\u001b[0m\n",
            "\u001b[0;32m/usr/local/lib/python3.7/dist-packages/zmq/sugar/socket.py\u001b[0m in \u001b[0;36mrecv_multipart\u001b[0;34m(self, flags, copy, track)\u001b[0m\n\u001b[1;32m    582\u001b[0m         \"\"\"\n\u001b[0;32m--> 583\u001b[0;31m         \u001b[0mparts\u001b[0m \u001b[0;34m=\u001b[0m \u001b[0;34m[\u001b[0m\u001b[0mself\u001b[0m\u001b[0;34m.\u001b[0m\u001b[0mrecv\u001b[0m\u001b[0;34m(\u001b[0m\u001b[0mflags\u001b[0m\u001b[0;34m,\u001b[0m \u001b[0mcopy\u001b[0m\u001b[0;34m=\u001b[0m\u001b[0mcopy\u001b[0m\u001b[0;34m,\u001b[0m \u001b[0mtrack\u001b[0m\u001b[0;34m=\u001b[0m\u001b[0mtrack\u001b[0m\u001b[0;34m)\u001b[0m\u001b[0;34m]\u001b[0m\u001b[0;34m\u001b[0m\u001b[0;34m\u001b[0m\u001b[0m\n\u001b[0m\u001b[1;32m    584\u001b[0m         \u001b[0;31m# have first part already, only loop while more to receive\u001b[0m\u001b[0;34m\u001b[0m\u001b[0;34m\u001b[0m\u001b[0;34m\u001b[0m\u001b[0m\n",
            "\u001b[0;32mzmq/backend/cython/socket.pyx\u001b[0m in \u001b[0;36mzmq.backend.cython.socket.Socket.recv\u001b[0;34m()\u001b[0m\n",
            "\u001b[0;32mzmq/backend/cython/socket.pyx\u001b[0m in \u001b[0;36mzmq.backend.cython.socket.Socket.recv\u001b[0;34m()\u001b[0m\n",
            "\u001b[0;32mzmq/backend/cython/socket.pyx\u001b[0m in \u001b[0;36mzmq.backend.cython.socket._recv_copy\u001b[0;34m()\u001b[0m\n",
            "\u001b[0;32m/usr/local/lib/python3.7/dist-packages/zmq/backend/cython/checkrc.pxd\u001b[0m in \u001b[0;36mzmq.backend.cython.checkrc._check_rc\u001b[0;34m()\u001b[0m\n",
            "\u001b[0;31mKeyboardInterrupt\u001b[0m: ",
            "\nDuring handling of the above exception, another exception occurred:\n",
            "\u001b[0;31mKeyboardInterrupt\u001b[0m                         Traceback (most recent call last)",
            "\u001b[0;32m<ipython-input-178-ff3aaf45cab6>\u001b[0m in \u001b[0;36m<module>\u001b[0;34m()\u001b[0m\n\u001b[0;32m----> 1\u001b[0;31m \u001b[0mogrenci_ekle\u001b[0m\u001b[0;34m(\u001b[0m\u001b[0;34m)\u001b[0m\u001b[0;34m\u001b[0m\u001b[0;34m\u001b[0m\u001b[0m\n\u001b[0m",
            "\u001b[0;32m<ipython-input-176-9d61674fbc54>\u001b[0m in \u001b[0;36mogrenci_ekle\u001b[0;34m()\u001b[0m\n\u001b[1;32m     11\u001b[0m     \u001b[0mconn\u001b[0m\u001b[0;34m=\u001b[0m\u001b[0msqlite3\u001b[0m\u001b[0;34m.\u001b[0m\u001b[0mconnect\u001b[0m\u001b[0;34m(\u001b[0m\u001b[0;34m\"kurs.db\"\u001b[0m\u001b[0;34m)\u001b[0m\u001b[0;34m\u001b[0m\u001b[0;34m\u001b[0m\u001b[0m\n\u001b[1;32m     12\u001b[0m     \u001b[0misim\u001b[0m\u001b[0;34m=\u001b[0m\u001b[0minput\u001b[0m\u001b[0;34m(\u001b[0m\u001b[0;34m\"İsim\"\u001b[0m\u001b[0;34m)\u001b[0m\u001b[0;34m\u001b[0m\u001b[0;34m\u001b[0m\u001b[0m\n\u001b[0;32m---> 13\u001b[0;31m     \u001b[0msoyisim\u001b[0m\u001b[0;34m=\u001b[0m\u001b[0minput\u001b[0m\u001b[0;34m(\u001b[0m\u001b[0;34m\"Soyisim\"\u001b[0m\u001b[0;34m)\u001b[0m\u001b[0;34m\u001b[0m\u001b[0;34m\u001b[0m\u001b[0m\n\u001b[0m\u001b[1;32m     14\u001b[0m     \u001b[0memail\u001b[0m\u001b[0;34m=\u001b[0m\u001b[0minput\u001b[0m\u001b[0;34m(\u001b[0m\u001b[0;34m\"Email\"\u001b[0m\u001b[0;34m)\u001b[0m\u001b[0;34m\u001b[0m\u001b[0;34m\u001b[0m\u001b[0m\n\u001b[1;32m     15\u001b[0m     \u001b[0mtelefon\u001b[0m\u001b[0;34m=\u001b[0m\u001b[0minput\u001b[0m\u001b[0;34m(\u001b[0m\u001b[0;34m\"Telefon\"\u001b[0m\u001b[0;34m)\u001b[0m\u001b[0;34m\u001b[0m\u001b[0;34m\u001b[0m\u001b[0m\n",
            "\u001b[0;32m/usr/local/lib/python3.7/dist-packages/ipykernel/kernelbase.py\u001b[0m in \u001b[0;36mraw_input\u001b[0;34m(self, prompt)\u001b[0m\n\u001b[1;32m    702\u001b[0m             \u001b[0mself\u001b[0m\u001b[0;34m.\u001b[0m\u001b[0m_parent_ident\u001b[0m\u001b[0;34m,\u001b[0m\u001b[0;34m\u001b[0m\u001b[0;34m\u001b[0m\u001b[0m\n\u001b[1;32m    703\u001b[0m             \u001b[0mself\u001b[0m\u001b[0;34m.\u001b[0m\u001b[0m_parent_header\u001b[0m\u001b[0;34m,\u001b[0m\u001b[0;34m\u001b[0m\u001b[0;34m\u001b[0m\u001b[0m\n\u001b[0;32m--> 704\u001b[0;31m             \u001b[0mpassword\u001b[0m\u001b[0;34m=\u001b[0m\u001b[0;32mFalse\u001b[0m\u001b[0;34m,\u001b[0m\u001b[0;34m\u001b[0m\u001b[0;34m\u001b[0m\u001b[0m\n\u001b[0m\u001b[1;32m    705\u001b[0m         )\n\u001b[1;32m    706\u001b[0m \u001b[0;34m\u001b[0m\u001b[0m\n",
            "\u001b[0;32m/usr/local/lib/python3.7/dist-packages/ipykernel/kernelbase.py\u001b[0m in \u001b[0;36m_input_request\u001b[0;34m(self, prompt, ident, parent, password)\u001b[0m\n\u001b[1;32m    732\u001b[0m             \u001b[0;32mexcept\u001b[0m \u001b[0mKeyboardInterrupt\u001b[0m\u001b[0;34m:\u001b[0m\u001b[0;34m\u001b[0m\u001b[0;34m\u001b[0m\u001b[0m\n\u001b[1;32m    733\u001b[0m                 \u001b[0;31m# re-raise KeyboardInterrupt, to truncate traceback\u001b[0m\u001b[0;34m\u001b[0m\u001b[0;34m\u001b[0m\u001b[0;34m\u001b[0m\u001b[0m\n\u001b[0;32m--> 734\u001b[0;31m                 \u001b[0;32mraise\u001b[0m \u001b[0mKeyboardInterrupt\u001b[0m\u001b[0;34m\u001b[0m\u001b[0;34m\u001b[0m\u001b[0m\n\u001b[0m\u001b[1;32m    735\u001b[0m             \u001b[0;32melse\u001b[0m\u001b[0;34m:\u001b[0m\u001b[0;34m\u001b[0m\u001b[0;34m\u001b[0m\u001b[0m\n\u001b[1;32m    736\u001b[0m                 \u001b[0;32mbreak\u001b[0m\u001b[0;34m\u001b[0m\u001b[0;34m\u001b[0m\u001b[0m\n",
            "\u001b[0;31mKeyboardInterrupt\u001b[0m: "
          ]
        }
      ]
    },
    {
      "cell_type": "code",
      "metadata": {
        "colab": {
          "base_uri": "https://localhost:8080/"
        },
        "id": "a7OPWd8hfoJo",
        "outputId": "b71dc7a9-46a2-4af9-9245-071fb8eacef6"
      },
      "source": [
        "tum_ogrenciler()"
      ],
      "execution_count": null,
      "outputs": [
        {
          "output_type": "stream",
          "text": [
            "('Mehmet', 'Hakan', 'iletisim@cagrigungor.com', '05054407855', 'Python', 980.0)\n",
            "('Mehmet', 'Hakan', 'iletisim@cagrigungor.com', '05054407855', 'Python', 980.0)\n",
            "('Mehmet', 'Hakan', 'iletisim@cagrigungor.com', '05054407855', 'Python', 980.0)\n",
            "('Çağrı', 'Güngör', 'iletisim@cagrigungor.com', '05054407855', 'php', 900.0)\n",
            "('Süleyman', 'Aslan', 'suleyman@cagri.com', '05054407855', 'html', 800.0)\n"
          ],
          "name": "stdout"
        }
      ]
    },
    {
      "cell_type": "code",
      "metadata": {
        "colab": {
          "base_uri": "https://localhost:8080/"
        },
        "id": "m48u4sexgPBo",
        "outputId": "6d7f6989-3028-44b4-f2a7-aae00d355883"
      },
      "source": [
        "odeme()"
      ],
      "execution_count": null,
      "outputs": [
        {
          "output_type": "stream",
          "text": [
            "İsimÇağrı\n",
            "SoyisimGüngör\n",
            "Ödeme miktarı400\n"
          ],
          "name": "stdout"
        }
      ]
    },
    {
      "cell_type": "code",
      "metadata": {
        "colab": {
          "base_uri": "https://localhost:8080/"
        },
        "id": "fKRJBuhsh3nV",
        "outputId": "0b7aa57b-9225-4777-fb17-9bcec73a3349"
      },
      "source": [
        "tum_ogrenciler()"
      ],
      "execution_count": null,
      "outputs": [
        {
          "output_type": "stream",
          "text": [
            "('Mehmet', 'Hakan', 'iletisim@cagrigungor.com', '05054407855', 'Python', 980.0)\n",
            "('Mehmet', 'Hakan', 'iletisim@cagrigungor.com', '05054407855', 'Python', 980.0)\n",
            "('Mehmet', 'Hakan', 'iletisim@cagrigungor.com', '05054407855', 'Python', 980.0)\n",
            "('Çağrı', 'Güngör', 'iletisim@cagrigungor.com', '05054407855', 'php', 500.0)\n",
            "('Süleyman', 'Aslan', 'suleyman@cagri.com', '05054407855', 'html', 800.0)\n"
          ],
          "name": "stdout"
        }
      ]
    },
    {
      "cell_type": "code",
      "metadata": {
        "id": "k4H3mrKmimiY"
      },
      "source": [],
      "execution_count": null,
      "outputs": []
    },
    {
      "cell_type": "markdown",
      "metadata": {
        "id": "XslEaQEVnSi4"
      },
      "source": []
    },
    {
      "cell_type": "code",
      "metadata": {
        "id": "ozdwYMwCnS6_"
      },
      "source": [
        "import datetime\n",
        "x = datetime.datetime(2020, 5, 5)\n",
        "gun=datetime.timedelta(days=10)\n"
      ],
      "execution_count": null,
      "outputs": []
    },
    {
      "cell_type": "code",
      "source": [
        "a=x+gun\n",
        "a.strftime(\"%Y/%m/%d\")"
      ],
      "metadata": {
        "colab": {
          "base_uri": "https://localhost:8080/",
          "height": 35
        },
        "id": "NDcLKZ2h2vd6",
        "outputId": "1526526e-f22b-4592-9bf5-29bf2340c161"
      },
      "execution_count": null,
      "outputs": [
        {
          "output_type": "execute_result",
          "data": {
            "text/plain": [
              "'2020/05/15'"
            ],
            "application/vnd.google.colaboratory.intrinsic+json": {
              "type": "string"
            }
          },
          "metadata": {},
          "execution_count": 15
        }
      ]
    },
    {
      "cell_type": "code",
      "source": [
        "type(a)"
      ],
      "metadata": {
        "colab": {
          "base_uri": "https://localhost:8080/"
        },
        "id": "U8Wla7ab3FU5",
        "outputId": "7cd800eb-5a74-4625-9319-592b3467ea06"
      },
      "execution_count": null,
      "outputs": [
        {
          "output_type": "execute_result",
          "data": {
            "text/plain": [
              "datetime.datetime"
            ]
          },
          "metadata": {},
          "execution_count": 16
        }
      ]
    },
    {
      "cell_type": "code",
      "source": [],
      "metadata": {
        "id": "DSKWVgd14EON"
      },
      "execution_count": null,
      "outputs": []
    }
  ]
}